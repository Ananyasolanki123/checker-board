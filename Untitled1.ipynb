{
  "nbformat": 4,
  "nbformat_minor": 0,
  "metadata": {
    "colab": {
      "provenance": []
    },
    "kernelspec": {
      "name": "python3",
      "display_name": "Python 3"
    },
    "language_info": {
      "name": "python"
    }
  },
  "cells": [
    {
      "cell_type": "code",
      "execution_count": null,
      "metadata": {
        "id": "5IS9JnqrkIvE"
      },
      "outputs": [],
      "source": [
        "#10 checker board\n",
        "import numpy as np\n",
        "import cv2\n",
        "\n",
        "img= np.zeros(( 600,600,3))#create a black bg of 200*200 pixels\n",
        "img[0:100,0:100] = 255,255,255#white\n",
        "img[100:200,100:200] = 255,255,255\n",
        "img[0:100,200:300]=255,255,255\n",
        "img[100:200,300:400]=255,255,255\n",
        "img[200:300,0:100]=255,255,255\n",
        "img[300:400,100:200]=255,255,255\n",
        "img[200:300,200:300] = 255,255,255\n",
        "img[300:400,300:400] = 255,255,255\n",
        "img[0:100,400:500] = 255,255,255\n",
        "img[200:300,400:500] = 255,255,255\n",
        "img[400:500,0:100] = 255,255,255\n",
        "img[400:500,200:300] = 255,255,255\n",
        "img[400:500,400:500] = 255,255,255\n",
        "img[100:200,500:600] = 255,255,255\n",
        "img[300:400,500:600] = 255,255,255\n",
        "img[500:600,100:200] = 255,255,255\n",
        "img[500:600,300:400] = 255,255,255\n",
        "img[500:600,500:600] = 255,255,255\n",
        "\n",
        "\n",
        "\n",
        "\n",
        "cv2.imshow('CHECKER BOARD', img)\n",
        "cv2.waitkey(0)\n",
        "cv2.destroyAllWindows()"
      ]
    }
  ]
}